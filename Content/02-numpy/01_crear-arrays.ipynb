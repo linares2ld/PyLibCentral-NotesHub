{
 "cells": [
  {
   "cell_type": "code",
   "execution_count": 1,
   "metadata": {},
   "outputs": [],
   "source": [
    "import numpy as np"
   ]
  },
  {
   "cell_type": "markdown",
   "metadata": {},
   "source": [
    "# A partir de listas de python"
   ]
  },
  {
   "cell_type": "code",
   "execution_count": 2,
   "metadata": {},
   "outputs": [
    {
     "data": {
      "text/plain": [
       "array([1, 2, 3, 4, 5, 6, 7, 8, 9])"
      ]
     },
     "execution_count": 2,
     "metadata": {},
     "output_type": "execute_result"
    }
   ],
   "source": [
    "lista = [1,2,3,4,5,6,7,8,9]\n",
    "arr_lista = np.array(lista)\n",
    "\n",
    "arr_lista"
   ]
  },
  {
   "cell_type": "code",
   "execution_count": 3,
   "metadata": {},
   "outputs": [
    {
     "data": {
      "text/plain": [
       "array([[1, 2, 3],\n",
       "       [4, 5, 6],\n",
       "       [7, 8, 9]])"
      ]
     },
     "execution_count": 3,
     "metadata": {},
     "output_type": "execute_result"
    }
   ],
   "source": [
    "matriz = [[1,2,3],[4,5,6],[7,8,9]]\n",
    "arr_matriz = np.array(matriz)\n",
    "\n",
    "arr_matriz"
   ]
  },
  {
   "cell_type": "markdown",
   "metadata": {},
   "source": [
    "# Desde Numpy"
   ]
  },
  {
   "cell_type": "markdown",
   "metadata": {},
   "source": [
    "## Valores consecutivos"
   ]
  },
  {
   "cell_type": "code",
   "execution_count": 4,
   "metadata": {},
   "outputs": [
    {
     "name": "stdout",
     "output_type": "stream",
     "text": [
      "[0 1 2 3 4 5 6 7 8 9]\n",
      "[ 0  2  4  6  8 10 12 14 16 18]\n"
     ]
    }
   ],
   "source": [
    "# Crea arrays con valores consecutivos dentro de un intervalo dado:\n",
    "\n",
    "print(np.arange(0,10))\n",
    "# - El tercer parámetro indica los pasos (steps) en los que se toman los datos\n",
    "print(np.arange(0,20,2))"
   ]
  },
  {
   "cell_type": "code",
   "execution_count": 5,
   "metadata": {},
   "outputs": [
    {
     "data": {
      "text/plain": [
       "array([ 0.  ,  1.25,  2.5 ,  3.75,  5.  ,  6.25,  7.5 ,  8.75, 10.  ])"
      ]
     },
     "execution_count": 5,
     "metadata": {},
     "output_type": "execute_result"
    }
   ],
   "source": [
    "# Crea un array con las siguientes condiciones:\n",
    "# np.linspaces(valor_inicial,valor_final,cantidad_de_elementos)\n",
    "\n",
    "# El paso entre los elementos es el mismo\n",
    "np.linspace(0,10,9)"
   ]
  },
  {
   "cell_type": "markdown",
   "metadata": {},
   "source": [
    "## Llenar con números aleatorios"
   ]
  },
  {
   "cell_type": "code",
   "execution_count": 6,
   "metadata": {},
   "outputs": [
    {
     "data": {
      "text/plain": [
       "0.06296092216873694"
      ]
     },
     "execution_count": 6,
     "metadata": {},
     "output_type": "execute_result"
    }
   ],
   "source": [
    "# Sin parametro, crea un número aleatorio entre el 0 y el 1\n",
    "np.random.rand()"
   ]
  },
  {
   "cell_type": "code",
   "execution_count": 7,
   "metadata": {},
   "outputs": [
    {
     "data": {
      "text/plain": [
       "array([0.19711502, 0.10755353, 0.30762546, 0.85256979])"
      ]
     },
     "execution_count": 7,
     "metadata": {},
     "output_type": "execute_result"
    }
   ],
   "source": [
    "np.random.rand(4) # rand(cantidad_elementos)"
   ]
  },
  {
   "cell_type": "code",
   "execution_count": 8,
   "metadata": {},
   "outputs": [
    {
     "data": {
      "text/plain": [
       "array([[[0.14330989, 0.63482413, 0.83681073],\n",
       "        [0.89470229, 0.74828387, 0.54572453]],\n",
       "\n",
       "       [[0.26436218, 0.4025332 , 0.39702086],\n",
       "        [0.01369533, 0.26530578, 0.22664492]],\n",
       "\n",
       "       [[0.26003194, 0.62126272, 0.0165067 ],\n",
       "        [0.8750442 , 0.5950117 , 0.71076007]],\n",
       "\n",
       "       [[0.73598748, 0.27909406, 0.69728445],\n",
       "        [0.49401188, 0.91353968, 0.65359479]]])"
      ]
     },
     "execution_count": 8,
     "metadata": {},
     "output_type": "execute_result"
    }
   ],
   "source": [
    "np.random.rand(4,2,3) # rand(cantidad_elementos)\n",
    "\n",
    "# La cantidad de atributos es la cantidad de dimansiones del array\n",
    "# El valor de cada atributo es la cantidad de elementos de la dimensión"
   ]
  },
  {
   "cell_type": "code",
   "execution_count": 9,
   "metadata": {},
   "outputs": [
    {
     "data": {
      "text/plain": [
       "8"
      ]
     },
     "execution_count": 9,
     "metadata": {},
     "output_type": "execute_result"
    }
   ],
   "source": [
    "# Arroja un número entero aleatorio dentro de un intervalo definido:\n",
    "# Ejemplo: número aleatorio entre 1 y 15\n",
    "np.random.randint(1,15)"
   ]
  },
  {
   "cell_type": "code",
   "execution_count": 10,
   "metadata": {},
   "outputs": [
    {
     "data": {
      "text/plain": [
       "array([[66, 40, 69, 64, 19, 12, 63, 48, 97, 65],\n",
       "       [44, 29, 37, 58, 82, 33, 83, 63, 48, 18],\n",
       "       [83, 54, 47, 89, 27, 81, 35, 52, 90, 35],\n",
       "       [ 2, 90, 70, 21, 56, 78,  7, 91, 86, 42],\n",
       "       [93,  8, 55, 91, 92, 97, 62, 46, 80, 54],\n",
       "       [47, 33, 16, 88, 57, 98, 25, 67,  6, 44],\n",
       "       [63, 84, 19, 42, 38, 11, 72, 56, 73, 75],\n",
       "       [80, 93, 14, 17, 92, 26, 27, 47, 49, 59],\n",
       "       [91, 81, 30, 58, 15, 41, 24, 81, 77, 20],\n",
       "       [47, 90, 10, 55,  5, 64, 10, 86, 53,  2]], dtype=int32)"
      ]
     },
     "execution_count": 10,
     "metadata": {},
     "output_type": "execute_result"
    }
   ],
   "source": [
    "# Crea un array del tamaño y dimensiones deseadas con números enteros aleatorios dentro de un intervalo definido:\n",
    "# Ejemplo: matriz de 10 por 10 con números enteros aleatorios entre 1 y 100\n",
    "np.random.randint(1,100,(10,10))"
   ]
  },
  {
   "cell_type": "markdown",
   "metadata": {},
   "source": [
    "## Arrays especiales"
   ]
  },
  {
   "cell_type": "code",
   "execution_count": 11,
   "metadata": {},
   "outputs": [
    {
     "name": "stdout",
     "output_type": "stream",
     "text": [
      "[0. 0. 0.]\n",
      "\n",
      "[[0. 0. 0. 0. 0.]\n",
      " [0. 0. 0. 0. 0.]\n",
      " [0. 0. 0. 0. 0.]\n",
      " [0. 0. 0. 0. 0.]\n",
      " [0. 0. 0. 0. 0.]]\n"
     ]
    }
   ],
   "source": [
    "# Crea arrays de ceros (np.zeros()) con las dimensiones establecidas\n",
    "# - Ayuda a crear esquemas\n",
    "\n",
    "# Vector:\n",
    "print(f'{np.zeros(3)}\\n')\n",
    "# Matriz:\n",
    "print(np.zeros((5,5)))\n"
   ]
  },
  {
   "cell_type": "code",
   "execution_count": 12,
   "metadata": {},
   "outputs": [
    {
     "data": {
      "text/plain": [
       "array([[1., 1., 1., 1., 1.],\n",
       "       [1., 1., 1., 1., 1.],\n",
       "       [1., 1., 1., 1., 1.],\n",
       "       [1., 1., 1., 1., 1.],\n",
       "       [1., 1., 1., 1., 1.]])"
      ]
     },
     "execution_count": 12,
     "metadata": {},
     "output_type": "execute_result"
    }
   ],
   "source": [
    "# Crea arrays de unos (np.ones()) con las dimensiones establecidas\n",
    "np.ones((5,5))"
   ]
  },
  {
   "cell_type": "code",
   "execution_count": 13,
   "metadata": {},
   "outputs": [
    {
     "data": {
      "text/plain": [
       "array([[1., 0., 0., 0.],\n",
       "       [0., 1., 0., 0.],\n",
       "       [0., 0., 1., 0.],\n",
       "       [0., 0., 0., 1.]])"
      ]
     },
     "execution_count": 13,
     "metadata": {},
     "output_type": "execute_result"
    }
   ],
   "source": [
    "# Crea una matriz unitaria del tamaño establecido\n",
    "\n",
    "np.eye(4)"
   ]
  },
  {
   "cell_type": "markdown",
   "metadata": {},
   "source": [
    "# Creando un trozo de array a apartir de otro array (forma tradicional)"
   ]
  },
  {
   "cell_type": "code",
   "execution_count": 14,
   "metadata": {},
   "outputs": [
    {
     "name": "stdout",
     "output_type": "stream",
     "text": [
      "Original: [ 0  1  2  3  4  5  6  7  8  9 10]\n",
      "Trozo extraido: [0 1 2 3 4 5]\n",
      "\n",
      "Trozo modificado: [0 0 0 0 0 0]\n",
      "Original sobreescrito: [ 0  0  0  0  0  0  6  7  8  9 10]\n"
     ]
    }
   ],
   "source": [
    "arr = np.arange(0,11)\n",
    "print(f'Original: {arr}')\n",
    "trozo_de_arr = arr[0:6]\n",
    "print(f'Trozo extraido: {trozo_de_arr}\\n')\n",
    "\n",
    "# Aquí se sobreescribe trozo_de_arr\n",
    "trozo_de_arr[:] = 0\n",
    "print(f'Trozo modificado: {trozo_de_arr}')\n",
    "\n",
    "# El problema es que como hace referencia a arr, también lo sobreescribe y daña el array original\n",
    "print(f'Original sobreescrito: {arr}')"
   ]
  },
  {
   "cell_type": "markdown",
   "metadata": {},
   "source": [
    "# Usando .copy()"
   ]
  },
  {
   "cell_type": "code",
   "execution_count": 15,
   "metadata": {},
   "outputs": [
    {
     "name": "stdout",
     "output_type": "stream",
     "text": [
      "Original: [ 0  1  2  3  4  5  6  7  8  9 10]\n",
      "Copia: [ 0  1  2  3  4  5  6  7  8  9 10]\n",
      "\n",
      "Copia modificada: [100 100 100 100 100 100 100 100 100 100 100]\n",
      "Original no alterado: [ 0  1  2  3  4  5  6  7  8  9 10]\n"
     ]
    }
   ],
   "source": [
    "# De esta forma arr_copy ocupa un espacio diferente de memoria y se elimina el riesgo de sobreescribir el array original\n",
    "\n",
    "# IMPORTANTE: Siempre que quiera sacar trozos de un array, usar copy, para no correr el riesgo de modificar el original\n",
    "\n",
    "arr = np.arange(0,11)\n",
    "arr_copy = arr.copy()\n",
    "print(f'Original: {arr}')\n",
    "print(f'Copia: {arr_copy}\\n')\n",
    "\n",
    "# Modificando la copia del array original\n",
    "arr_copy[:] = 100\n",
    "print(f'Copia modificada: {arr_copy}')\n",
    "\n",
    "# El array original no se modifica\n",
    "print(f'Original no alterado: {arr}')"
   ]
  }
 ],
 "metadata": {
  "kernelspec": {
   "display_name": ".venv",
   "language": "python",
   "name": "python3"
  },
  "language_info": {
   "codemirror_mode": {
    "name": "ipython",
    "version": 3
   },
   "file_extension": ".py",
   "mimetype": "text/x-python",
   "name": "python",
   "nbconvert_exporter": "python",
   "pygments_lexer": "ipython3",
   "version": "3.13.1"
  }
 },
 "nbformat": 4,
 "nbformat_minor": 2
}
