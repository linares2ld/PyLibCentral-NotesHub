{
 "cells": [
  {
   "cell_type": "code",
   "execution_count": 1,
   "metadata": {},
   "outputs": [],
   "source": [
    "import numpy as np"
   ]
  },
  {
   "cell_type": "code",
   "execution_count": 2,
   "metadata": {},
   "outputs": [
    {
     "data": {
      "text/plain": [
       "array([ 1,  2,  3,  4,  5,  6,  7,  8,  9, 10], dtype=int8)"
      ]
     },
     "execution_count": 2,
     "metadata": {},
     "output_type": "execute_result"
    }
   ],
   "source": [
    "arr = np.linspace(1,10,10,dtype='int8')\n",
    "arr"
   ]
  },
  {
   "attachments": {},
   "cell_type": "markdown",
   "metadata": {},
   "source": [
    "# Formas de aplicar condiciones"
   ]
  },
  {
   "cell_type": "code",
   "execution_count": 3,
   "metadata": {},
   "outputs": [
    {
     "name": "stdout",
     "output_type": "stream",
     "text": [
      "Lista original: [ 1  2  3  4  5  6  7  8  9 10]\n",
      "\n",
      "Lista booleana de condiciones: [False False False False False  True  True  True  True  True]\n",
      "\n",
      "Lista con la condición aplicada: [ 6  7  8  9 10]\n"
     ]
    }
   ],
   "source": [
    "# Forma 1:\n",
    "# Crea una variable con las condiciones y luego usa como parámetro esa variable.\n",
    "\n",
    "# La condición creará un array booleano dando True a los valores que la cumplan y False a los que no\n",
    "indices_cond = arr > 5\n",
    "# Se ocupa la lista booleana como parámetro del array original\n",
    "lista_condicion_aplicada = arr[indices_cond]\n",
    "\n",
    "print(f'Lista original: {arr}\\n')\n",
    "print(f'Lista booleana de condiciones: {indices_cond}\\n')\n",
    "print(f'Lista con la condición aplicada: {lista_condicion_aplicada}')"
   ]
  },
  {
   "cell_type": "code",
   "execution_count": 4,
   "metadata": {},
   "outputs": [
    {
     "name": "stdout",
     "output_type": "stream",
     "text": [
      "Lista original: [ 1  2  3  4  5  6  7  8  9 10]\n",
      "\n",
      "Lista con la condición aplicada: [ 6  7  8  9 10]\n"
     ]
    }
   ],
   "source": [
    "# Forma 2:\n",
    "# aplicar la condición directamente como parámetro del array\n",
    "\n",
    "lista_condicion_aplicada = arr[arr>5]\n",
    "\n",
    "print(f'Lista original: {arr}\\n')\n",
    "print(f'Lista con la condición aplicada: {lista_condicion_aplicada}')\n"
   ]
  },
  {
   "attachments": {},
   "cell_type": "markdown",
   "metadata": {},
   "source": [
    "# Usando las condiciones"
   ]
  },
  {
   "cell_type": "code",
   "execution_count": 5,
   "metadata": {},
   "outputs": [
    {
     "data": {
      "text/plain": [
       "array([6, 7, 8], dtype=int8)"
      ]
     },
     "execution_count": 5,
     "metadata": {},
     "output_type": "execute_result"
    }
   ],
   "source": [
    "# Aplica dos condiciones al array\n",
    "\n",
    "arr[(arr>5) & (arr<9)]"
   ]
  },
  {
   "cell_type": "code",
   "execution_count": 6,
   "metadata": {},
   "outputs": [
    {
     "data": {
      "text/plain": [
       "array([ 1,  2,  3,  4,  5, 99, 99, 99, 99, 99], dtype=int8)"
      ]
     },
     "execution_count": 6,
     "metadata": {},
     "output_type": "execute_result"
    }
   ],
   "source": [
    "# Cambia el valor de los datos que cumplen con la condición establecida\n",
    "\n",
    "arr[arr>5] = 99\n",
    "arr"
   ]
  }
 ],
 "metadata": {
  "kernelspec": {
   "display_name": ".venv",
   "language": "python",
   "name": "python3"
  },
  "language_info": {
   "codemirror_mode": {
    "name": "ipython",
    "version": 3
   },
   "file_extension": ".py",
   "mimetype": "text/x-python",
   "name": "python",
   "nbconvert_exporter": "python",
   "pygments_lexer": "ipython3",
   "version": "3.13.1"
  },
  "orig_nbformat": 4
 },
 "nbformat": 4,
 "nbformat_minor": 2
}
